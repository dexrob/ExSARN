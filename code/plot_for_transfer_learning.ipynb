{
 "cells": [
  {
   "cell_type": "code",
   "execution_count": 1,
   "metadata": {},
   "outputs": [
    {
     "name": "stderr",
     "output_type": "stream",
     "text": [
      "In /home/ruihan/anaconda3/envs/AE/lib/python3.8/site-packages/matplotlib/mpl-data/stylelib/_classic_test.mplstyle: \n",
      "The text.latex.preview rcparam was deprecated in Matplotlib 3.3 and will be removed two minor releases later.\n",
      "In /home/ruihan/anaconda3/envs/AE/lib/python3.8/site-packages/matplotlib/mpl-data/stylelib/_classic_test.mplstyle: \n",
      "The mathtext.fallback_to_cm rcparam was deprecated in Matplotlib 3.3 and will be removed two minor releases later.\n",
      "In /home/ruihan/anaconda3/envs/AE/lib/python3.8/site-packages/matplotlib/mpl-data/stylelib/_classic_test.mplstyle: Support for setting the 'mathtext.fallback_to_cm' rcParam is deprecated since 3.3 and will be removed two minor releases later; use 'mathtext.fallback : 'cm' instead.\n",
      "In /home/ruihan/anaconda3/envs/AE/lib/python3.8/site-packages/matplotlib/mpl-data/stylelib/_classic_test.mplstyle: \n",
      "The validate_bool_maybe_none function was deprecated in Matplotlib 3.3 and will be removed two minor releases later.\n",
      "In /home/ruihan/anaconda3/envs/AE/lib/python3.8/site-packages/matplotlib/mpl-data/stylelib/_classic_test.mplstyle: \n",
      "The savefig.jpeg_quality rcparam was deprecated in Matplotlib 3.3 and will be removed two minor releases later.\n",
      "In /home/ruihan/anaconda3/envs/AE/lib/python3.8/site-packages/matplotlib/mpl-data/stylelib/_classic_test.mplstyle: \n",
      "The keymap.all_axes rcparam was deprecated in Matplotlib 3.3 and will be removed two minor releases later.\n",
      "In /home/ruihan/anaconda3/envs/AE/lib/python3.8/site-packages/matplotlib/mpl-data/stylelib/_classic_test.mplstyle: \n",
      "The animation.avconv_path rcparam was deprecated in Matplotlib 3.3 and will be removed two minor releases later.\n",
      "In /home/ruihan/anaconda3/envs/AE/lib/python3.8/site-packages/matplotlib/mpl-data/stylelib/_classic_test.mplstyle: \n",
      "The animation.avconv_args rcparam was deprecated in Matplotlib 3.3 and will be removed two minor releases later.\n"
     ]
    }
   ],
   "source": [
    "%matplotlib inline\n",
    "#!/usr/bin/env python\n",
    "# coding: utf-8\n",
    "\n",
    "'''\n",
    "sample command: python try_JointConcatPathway.py -c 0 --var 0 -k 0 -r 1 --data_dir ../data --spv 1\n",
    "Individual training for BioTac data (full/partial data)\n",
    "if -r=1, train with full data\n",
    "if -r=2, train with half data\n",
    "loss = classification loss + recon loss \n",
    "'''\n",
    "\n",
    "# Import\n",
    "import os,sys\n",
    "import pickle\n",
    "import argparse\n",
    "from datetime import datetime\n",
    "import numpy as np\n",
    "import torch\n",
    "import torch.nn as nn\n",
    "import torchvision\n",
    "import torch.nn.functional as F\n",
    "import torch.optim as optim\n",
    "import matplotlib.pyplot as plt\n",
    "\n",
    "from vrae.ConcatPathway import *\n",
    "from utils import *\n",
    "from preprocess_data import*\n",
    "\n",
    "import pandas as pd\n",
    "from sklearn.manifold import TSNE\n",
    "import seaborn as sns\n",
    "from scipy import stats\n",
    "from sklearn.metrics import confusion_matrix\n",
    "from gradflow_check import *\n",
    "import copy"
   ]
  },
  {
   "cell_type": "code",
   "execution_count": 2,
   "metadata": {},
   "outputs": [],
   "source": [
    "logDir = 'models_and_stats/'"
   ]
  },
  {
   "cell_type": "markdown",
   "metadata": {},
   "source": [
    "### plot three models (fresh, loadFromBT20, loadFromBT30), for different data_folders"
   ]
  },
  {
   "cell_type": "code",
   "execution_count": 3,
   "metadata": {},
   "outputs": [],
   "source": [
    "kfold_number = 0\n",
    "column_names = [\"model\", \"rep\", \"Fraction of the full dataset (%)\", \"Accuracy\"]\n",
    "tot_num = 1000"
   ]
  },
  {
   "cell_type": "code",
   "execution_count": 4,
   "metadata": {},
   "outputs": [],
   "source": [
    "data_folders = [\"c20icub_n200/\", \"c20icub_n400/\", \"c20icub_n600/\", \"c20icub_n800/\", \"c20icub/\"]\n",
    "num_sample_dict = {\"c20icub_n200/\": 200/tot_num*100, \"c20icub_n400/\": 400/tot_num*100, \"c20icub_n600/\": 600/tot_num*100, \"c20icub_n800/\": 800/tot_num*100, \"c20icub/\": 1000/tot_num*100}"
   ]
  },
  {
   "cell_type": "code",
   "execution_count": 5,
   "metadata": {},
   "outputs": [],
   "source": [
    "# num_samples = [200, 400, 600, 800, 1000]\n",
    "# transfer_acc = [0.65, 0.7625, 0.9, 0.90625, 0.91]\n",
    "# fresh_acc = [0.575, 0.7375, 0.825, 0.9, 0.9]"
   ]
  },
  {
   "cell_type": "code",
   "execution_count": 6,
   "metadata": {},
   "outputs": [],
   "source": [
    "all_df = pd.DataFrame(columns=column_names)"
   ]
  },
  {
   "cell_type": "code",
   "execution_count": 7,
   "metadata": {},
   "outputs": [],
   "source": [
    "model_name_list = [\"_ConcatPathway_ll40_ihs[100, 200]_ohs90_rf[20, 10]_res1.0_recGRU_midLSTMo3_ep100_lr0.0005_wc1_wr10.001_wr20.001_wkl0.0005_var1\", \"_ConcatPathway_loadFromBTc20\", \"_ConcatPathway_loadFromBTc30\", \"_ConcatPathway_loadFromBTc50\"]\n",
    "model_name_short_list = [\"Baseline\", \"TL-BTc20\", \"TL-BTc30\", \"TL-BTc50\"]"
   ]
  },
  {
   "cell_type": "code",
   "execution_count": 8,
   "metadata": {},
   "outputs": [
    {
     "name": "stdout",
     "output_type": "stream",
     "text": [
      "df for _ConcatPathway_ll40_ihs[100, 200]_ohs90_rf[20, 10]_res1.0_recGRU_midLSTMo3_ep100_lr0.0005_wc1_wr10.001_wr20.001_wkl0.0005_var1 shape: (5, 4), acc: 0.65, data_folder: 20.0\n",
      "all_df (5, 4)\n",
      "df for _ConcatPathway_loadFromBTc20 shape: (5, 4), acc: 0.6, data_folder: 20.0\n",
      "all_df (10, 4)\n",
      "df for _ConcatPathway_loadFromBTc30 shape: (5, 4), acc: 0.65, data_folder: 20.0\n",
      "all_df (15, 4)\n",
      "df for _ConcatPathway_loadFromBTc50 shape: (5, 4), acc: 0.625, data_folder: 20.0\n",
      "all_df (20, 4)\n",
      "df for _ConcatPathway_ll40_ihs[100, 200]_ohs90_rf[20, 10]_res1.0_recGRU_midLSTMo3_ep100_lr0.0005_wc1_wr10.001_wr20.001_wkl0.0005_var1 shape: (5, 4), acc: 0.85, data_folder: 40.0\n",
      "all_df (25, 4)\n",
      "df for _ConcatPathway_loadFromBTc20 shape: (5, 4), acc: 0.85, data_folder: 40.0\n",
      "all_df (30, 4)\n",
      "df for _ConcatPathway_loadFromBTc30 shape: (5, 4), acc: 0.8, data_folder: 40.0\n",
      "all_df (35, 4)\n",
      "df for _ConcatPathway_loadFromBTc50 shape: (5, 4), acc: 0.825, data_folder: 40.0\n",
      "all_df (40, 4)\n",
      "df for _ConcatPathway_ll40_ihs[100, 200]_ohs90_rf[20, 10]_res1.0_recGRU_midLSTMo3_ep100_lr0.0005_wc1_wr10.001_wr20.001_wkl0.0005_var1 shape: (5, 4), acc: 0.8583333333333333, data_folder: 60.0\n",
      "all_df (45, 4)\n",
      "df for _ConcatPathway_loadFromBTc20 shape: (5, 4), acc: 0.875, data_folder: 60.0\n",
      "all_df (50, 4)\n",
      "df for _ConcatPathway_loadFromBTc30 shape: (5, 4), acc: 0.8916666666666667, data_folder: 60.0\n",
      "all_df (55, 4)\n",
      "df for _ConcatPathway_loadFromBTc50 shape: (5, 4), acc: 0.8916666666666667, data_folder: 60.0\n",
      "all_df (60, 4)\n",
      "df for _ConcatPathway_ll40_ihs[100, 200]_ohs90_rf[20, 10]_res1.0_recGRU_midLSTMo3_ep100_lr0.0005_wc1_wr10.001_wr20.001_wkl0.0005_var1 shape: (5, 4), acc: 0.925, data_folder: 80.0\n",
      "all_df (65, 4)\n",
      "df for _ConcatPathway_loadFromBTc20 shape: (5, 4), acc: 0.93125, data_folder: 80.0\n",
      "all_df (70, 4)\n",
      "df for _ConcatPathway_loadFromBTc30 shape: (5, 4), acc: 0.925, data_folder: 80.0\n",
      "all_df (75, 4)\n",
      "df for _ConcatPathway_loadFromBTc50 shape: (5, 4), acc: 0.9375, data_folder: 80.0\n",
      "all_df (80, 4)\n",
      "df for _ConcatPathway_ll40_ihs[100, 200]_ohs90_rf[20, 10]_res1.0_recGRU_midLSTMo3_ep100_lr0.0005_wc1_wr10.001_wr20.001_wkl0.0005_var1 shape: (5, 4), acc: 0.91, data_folder: 100.0\n",
      "all_df (85, 4)\n",
      "df for _ConcatPathway_loadFromBTc20 shape: (5, 4), acc: 0.93, data_folder: 100.0\n",
      "all_df (90, 4)\n",
      "df for _ConcatPathway_loadFromBTc30 shape: (5, 4), acc: 0.915, data_folder: 100.0\n",
      "all_df (95, 4)\n",
      "df for _ConcatPathway_loadFromBTc50 shape: (5, 4), acc: 0.925, data_folder: 100.0\n",
      "all_df (100, 4)\n"
     ]
    }
   ],
   "source": [
    "num_rep = 5\n",
    "for data_folder in data_folders:\n",
    "    for j in range(len(model_name_list)):\n",
    "        df = pd.DataFrame(columns=column_names)\n",
    "        for i in range(num_rep):\n",
    "            try:\n",
    "                stats_dict_dir = logDir + \"icub_\"+data_folder[:-1]+ model_name_list[j] + \"_rep{}_fold{}_{}.pkl\".format(i+1, kfold_number, i+1)\n",
    "                stats_dict = pickle.load(open(stats_dict_dir, \"rb\"))\n",
    "            except:\n",
    "                try:\n",
    "                    stats_dict_dir = logDir + \"icub_\"+data_folder[:-1]+ model_name_list[j] + \"_fold{}_{}.pkl\".format(kfold_number, i+1)\n",
    "                    stats_dict = pickle.load(open(stats_dict_dir, \"rb\"))\n",
    "                except:\n",
    "                    raise ValueError(\"loading dict failed\")\n",
    "            \n",
    "            df = df.append({\"model\": model_name_short_list[j], \"rep\": i+1, \"Fraction of the full dataset (%)\": num_sample_dict[data_folder], \"Accuracy\": stats_dict[\"test_acc\"]}, ignore_index=True)\n",
    "        print(\"df for {} shape: {}, acc: {}, data_folder: {}\".format(model_name_list[j], df.shape, stats_dict[\"test_acc\"], num_sample_dict[data_folder]))\n",
    "        if all_df.shape[0] == 0:\n",
    "            all_df = df\n",
    "        else:\n",
    "            all_df = all_df.append(df, ignore_index=True)\n",
    "        print(\"all_df\", all_df.shape)"
   ]
  },
  {
   "cell_type": "code",
   "execution_count": 9,
   "metadata": {},
   "outputs": [],
   "source": [
    "# fig, ax = plt.subplots()\n",
    "# ax.plot(num_samples, transfer_acc, label=\"transfer learning\")\n",
    "# ax.plot(num_samples, fresh_acc, label=\"end-to-end\")\n",
    "# ax.set_ylabel(\"Acc\")\n",
    "# ax.set_xlabel(\"Number of samples in dataset\")\n",
    "# ax.grid(True)\n",
    "# ax.legend(loc='lower right')\n",
    "# plt.tight_layout()\n",
    "# figname = \"Compare_test_acc_of_reduced_c20icub.png\"\n",
    "# plt.savefig(logDir + figname, dpi=600)\n",
    "# plt.show()"
   ]
  },
  {
   "cell_type": "code",
   "execution_count": 11,
   "metadata": {
    "scrolled": true
   },
   "outputs": [
    {
     "data": {
      "image/png": "[encoded data removed]",
      "text/plain": [
       "<Figure size 432x288 with 1 Axes>"
      ]
     },
     "metadata": {
      "needs_background": "light"
     },
     "output_type": "display_data"
    }
   ],
   "source": [
    "img = sns.lineplot(data=all_df, x=\"Fraction of the full dataset (%)\", y=\"Accuracy\", hue=\"model\")\n",
    "img.legend(loc='lower right')\n",
    "figname = \"Compare_test_acc_of_reduced_c20icub_rep_new.png\"\n",
    "plt.savefig(logDir+figname, dpi=1200)\n",
    "figname = \"Compare_test_acc_of_reduced_c20icub_rep_new.pdf\"\n",
    "plt.savefig(logDir+figname, dpi=1200)"
   ]
  },
  {
   "cell_type": "code",
   "execution_count": null,
   "metadata": {},
   "outputs": [],
   "source": []
  }
 ],
 "metadata": {
  "kernelspec": {
   "display_name": "AE",
   "language": "python",
   "name": "ae"
  },
  "language_info": {
   "codemirror_mode": {
    "name": "ipython",
    "version": 3
   },
   "file_extension": ".py",
   "mimetype": "text/x-python",
   "name": "python",
   "nbconvert_exporter": "python",
   "pygments_lexer": "ipython3",
   "version": "3.8.3"
  }
 },
 "nbformat": 4,
 "nbformat_minor": 4
}
