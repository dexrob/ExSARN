{
 "cells": [
  {
   "cell_type": "code",
   "execution_count": 18,
   "metadata": {},
   "outputs": [
    {
     "name": "stdout",
     "output_type": "stream",
     "text": [
      "<__main__.Args object at 0x7ff723b02880>\n"
     ]
    }
   ],
   "source": [
    "#!/usr/bin/env python\n",
    "# coding: utf-8\n",
    "\n",
    "'''\n",
    "sample command: python T4_BT19_ae.py \n",
    "Individual training for BioTac data (full/partial data)\n",
    "if -r=1, train with full data\n",
    "if -r=2, train with half data\n",
    "loss = classification loss + recon loss \n",
    "'''\n",
    "\n",
    "# Import\n",
    "import os,sys\n",
    "import pickle\n",
    "# import argparse\n",
    "from datetime import datetime\n",
    "import numpy as np\n",
    "import pandas as pd\n",
    "import torch\n",
    "import torch.nn as nn\n",
    "import torchvision\n",
    "import torch.nn.functional as F\n",
    "import torch.optim as optim\n",
    "import matplotlib.pyplot as plt\n",
    "\n",
    "from vrae.lmu import CNNLMU\n",
    "from vrae.tas_utils_bs import get_trainValLoader, get_testLoader\n",
    "\n",
    "from vrae.visual import confusion_matrix_plot, tsne\n",
    "\n",
    "import scipy.io as sio\n",
    "\n",
    "# if running jupyter notebook\n",
    "class Args:\n",
    "    kfold = 0\n",
    "    cuda = '0'\n",
    "    rep = 0\n",
    "    reduction = 1\n",
    "    data_dir = 'data'\n",
    "    data = 'B'\n",
    "    w_r = 0.01\n",
    "    w_c = 1\n",
    "    if data == 'I':\n",
    "        sequence_length = 75\n",
    "        number_of_features = 60\n",
    "        header = 'CNN'\n",
    "\n",
    "    if data == 'B':\n",
    "        sequence_length = 400\n",
    "        number_of_features = 19\n",
    "        header = None\n",
    "        \n",
    "args=Args()\n",
    "print(args)\n",
    "\n",
    "# # Parse argument\n",
    "# parser = argparse.ArgumentParser()\n",
    "# parser.add_argument(\"-i\", \"--rep\", type=int, default=0, help='index of running repetition')\n",
    "# parser.add_argument('--data_dir', type=str, required=True, help=\"DIR set in 'gh_download.sh' to store compiled_data\")\n",
    "# parser.add_argument(\"-k\", \"--kfold\", type=int, default=0, help=\"kfold_number for loading data\")\n",
    "# parser.add_argument(\"-r\", \"--reduction\", type=int, default=1, help=\"data reduction ratio for partial training\")\n",
    "# parser.add_argument(\"-c\", \"--cuda\", default=0, help=\"index of cuda gpu to use\")\n",
    "# args = parser.parse_args()\n",
    "\n",
    "def check_timewise_rcls(args, sequence_length, number_of_features, header):\n",
    "    # Set hyper params\n",
    "    args_data_dir = args.data_dir\n",
    "    kfold_number = args.kfold\n",
    "    data_reduction_ratio = args.reduction\n",
    "    shuffle = True # set to False for partial training\n",
    "    num_class = 20\n",
    "\n",
    "    hidden_size = 90\n",
    "    hidden_layer_depth = 1\n",
    "    latent_length = 40\n",
    "    batch_size = 192\n",
    "    learning_rate = 0.0005\n",
    "    n_epochs = 1 # TODO reset the parameter\n",
    "    dropout_rate = 0.2\n",
    "    cuda = True # options: True, False\n",
    "\n",
    "    np.random.seed(1)\n",
    "    torch.manual_seed(1)\n",
    "\n",
    "    # Load data\n",
    "    data_dir = os.path.join(args_data_dir, \"compiled_data/\")\n",
    "    logDir = 'models_and_stats/'\n",
    "    if_plot = False\n",
    "\n",
    "    # model_name = 'BT19_ae_{}_wrI_{}_wC_{}_{}'.format(data_reduction_ratio, w_r, w_c, str(kfold_number))\n",
    "    model_name = \"test_indiv_B\"\n",
    "\n",
    "    if torch.cuda.is_available():\n",
    "        device = torch.device(\"cuda:{}\".format(args.cuda))\n",
    "    else:\n",
    "        device = torch.device('cpu')\n",
    "\n",
    "    if args.reduction != 1:\n",
    "        print(\"load {} kfold number, reduce data to {} folds, put to device: {}\".format(args.kfold, args.reduction, device))\n",
    "    else:\n",
    "        print(\"load {} kfold number, train with full data, put to devide: {}\".format(args.kfold, device))\n",
    "\n",
    "    # train_loader, val_loader, train_dataset, val_dataset = get_trainValLoader(data_dir, k=kfold_number, spike_ready=False, batch_size=batch_size, shuffle=shuffle)\n",
    "    test_loader, test_dataset = get_testLoader(data_dir, spike_ready=False, batch_size=batch_size, shuffle=shuffle)\n",
    "\n",
    "    # Initialize models\n",
    "    model = CNNLMU(num_class=num_class,\n",
    "                sequence_length=sequence_length,\n",
    "                number_of_features = number_of_features,\n",
    "                hidden_size = hidden_size, \n",
    "                hidden_layer_depth = hidden_layer_depth,\n",
    "                latent_length = latent_length,\n",
    "                batch_size = batch_size,\n",
    "                learning_rate = learning_rate,\n",
    "                n_epochs = n_epochs,\n",
    "                dropout_rate = dropout_rate,\n",
    "                cuda = cuda,\n",
    "                model_name=model_name,\n",
    "                header=header,\n",
    "                device = device)\n",
    "\n",
    "    # load pretrained model\n",
    "    model_dir = logDir + model_name + '.pt'\n",
    "    model_dict = torch.load(model_dir)\n",
    "    model.load_state_dict(model_dict, strict = False)\n",
    "    model.to(device)\n",
    "    print(model)\n",
    "\n",
    "    # Initialize training settings\n",
    "    # optimizer = optim.Adam(model.parameters(), lr=learning_rate)\n",
    "    # cl_loss_fn = nn.NLLLoss()\n",
    "    recon_loss_fn = nn.MSELoss()\n",
    "\n",
    "    # TEST after training\n",
    "    correct = 0\n",
    "    test_num = 0\n",
    "    for i, (XI, XB,  y) in enumerate(test_loader):\n",
    "        if model.header == 'CNN':\n",
    "            x = XI\n",
    "        else:\n",
    "            x = XB\n",
    "        x, y = x.to(device), y.long().to(device)\n",
    "        \n",
    "        if x.size(0) != batch_size:\n",
    "            print(\" test batch {} size {} < {}, skip\".format(i, x.size()[0], batch_size))\n",
    "            break\n",
    "        test_num += x.size(0)\n",
    "        x_decoded, latent, output = model(x)\n",
    "\n",
    "        # compute classification acc\n",
    "        pred = output.data.max(1, keepdim=True)[1]  # get the index of the max log-probability\n",
    "        correct += pred.eq(y.data.view_as(pred)).long().cpu().sum().item()\n",
    "        \n",
    "        if i == 0:\n",
    "            all_latent = latent\n",
    "            all_y = y\n",
    "            all_pred = pred\n",
    "            all_x = x\n",
    "            all_decoded = x_decoded\n",
    "        else:\n",
    "            all_latent = torch.cat((all_latent, latent), 0)\n",
    "            all_y = torch.cat((all_y, y), 0)\n",
    "            all_pred = torch.cat((all_pred, pred), 0)\n",
    "            all_x = torch.cat((all_x, x), 0)\n",
    "            all_decoded = torch.cat((all_decoded, c_decoded), 0)\n",
    "            \n",
    "    recon_loss_list = []\n",
    "    for i in range(args.sequence_length):\n",
    "        recon_loss = recon_loss_fn(all_x[:, :, i], all_decoded[:, :, i])\n",
    "        # recon_loss = recon_loss.detach().numpy()\n",
    "        recon_loss_list.append(recon_loss.item())\n",
    "    return recon_loss_list\n"
   ]
  },
  {
   "cell_type": "markdown",
   "metadata": {},
   "source": [
    "# rc loss for E1: 40-90-19 no reverse"
   ]
  },
  {
   "cell_type": "code",
   "execution_count": 19,
   "metadata": {},
   "outputs": [
    {
     "name": "stdout",
     "output_type": "stream",
     "text": [
      "load 0 kfold number, train with full data, put to devide: cpu\n",
      "training with BioTac dataset...\n",
      "CNNLMU(n_epochs=1,batch_size=192,cuda=False)\n",
      " test batch 1 size 8 < 192, skip\n"
     ]
    }
   ],
   "source": [
    "recon_loss_list = check_timewise_rcls(args, args.sequence_length, args.number_of_features, args.header)"
   ]
  },
  {
   "cell_type": "code",
   "execution_count": 20,
   "metadata": {},
   "outputs": [
    {
     "data": {
      "text/plain": [
       "<matplotlib.legend.Legend at 0x7ff752ee23d0>"
      ]
     },
     "execution_count": 20,
     "metadata": {},
     "output_type": "execute_result"
    },
    {
     "data": {
      "image/png": "[encoded data removed]",
      "text/plain": [
       "<Figure size 1080x504 with 1 Axes>"
      ]
     },
     "metadata": {
      "needs_background": "light"
     },
     "output_type": "display_data"
    }
   ],
   "source": [
    "# plot stats\n",
    "fig, ax = plt.subplots(figsize=(15, 7))\n",
    "ax.plot(recon_loss_list, label='recon_loss')\n",
    "ax.set_xlabel('time_step')\n",
    "ax.set_ylabel('recon_loss')\n",
    "ax.grid(True)\n",
    "plt.legend(loc='upper right')"
   ]
  },
  {
   "cell_type": "code",
   "execution_count": null,
   "metadata": {},
   "outputs": [],
   "source": []
  }
 ],
 "metadata": {
  "kernelspec": {
   "display_name": "Python [conda env:AE]",
   "language": "python",
   "name": "conda-env-AE-py"
  },
  "language_info": {
   "codemirror_mode": {
    "name": "ipython",
    "version": 3
   },
   "file_extension": ".py",
   "mimetype": "text/x-python",
   "name": "python",
   "nbconvert_exporter": "python",
   "pygments_lexer": "ipython3",
   "version": "3.8.3"
  }
 },
 "nbformat": 4,
 "nbformat_minor": 4
}
