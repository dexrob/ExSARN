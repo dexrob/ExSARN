{
 "cells": [
  {
   "cell_type": "code",
   "execution_count": 63,
   "metadata": {},
   "outputs": [],
   "source": [
    "# dummy class to replace argparser, if running jupyter notebook\n",
    "class Args:\n",
    "    rep = 0\n",
    "    data_dir = 'data'\n",
    "    kfold = 0\n",
    "    cuda = '0'\n",
    "    reduction = 1\n",
    "    r_on = 0.1\n",
    "    p_max = 200\n",
    "    w_r = 0.005\n",
    "    h_s = 90\n",
    "    dataset = 'c20'\n",
    "\n",
    "args=Args()\n",
    "\n",
    "# for ds in ['c20', 'c20new', 'c50']:\n",
    "#     args.dataset = ds\n",
    "#     print(args)\n",
    "#     train(args)\n",
    "\n",
    "\n",
    "    # 0.932\n",
    "\n",
    "    # for r_on in [0.1, 0.2, 0.3, 0.4]:\n",
    "    #     args.r_on = r_on\n",
    "    #     print(args)\n",
    "    #     train(args)\n",
    "\n",
    "    # for p_max in [75.0, 60.0, 45.0, 30.0]:\n",
    "    #     args.p_max = p_max\n",
    "    #     print(args)\n",
    "    #     train(args) \n",
    "\n",
    "    # for hidden_size in [60, 70, 80, 90, 100]:\n",
    "    #     args.h_s = hidden_size\n",
    "    #     print(args)\n",
    "    #     train(args)\n",
    "\n",
    "    # for w_r in [0, 0.0005, 0.001, 0.005, 0.01]:\n",
    "    #     args.w_r = w_r\n",
    "    #     print(args)\n",
    "    #     train(args)"
   ]
  },
  {
   "cell_type": "code",
   "execution_count": 98,
   "metadata": {},
   "outputs": [
    {
     "name": "stdout",
     "output_type": "stream",
     "text": [
      "load 0 kfold number, train with full data, put to device: cpu\n",
      "chop org data of length 400 into 1 segments, each of which is has length 400\n",
      "chop org data of length 400 into 1 segments, each of which is has length 400\n",
      "chop org data of length 400 into 1 segments, each of which is has length 400\n",
      "0 26\n",
      "1 26\n",
      "2 28\n",
      "3 28\n",
      "4 30\n",
      "5 28\n",
      " test batch 6 size 32 < 32, skip\n",
      "plotting conf matrix\n",
      "166 192\n",
      "at the best model Test accuracy for 0  fold :  0.8645833333333334\n"
     ]
    },
    {
     "data": {
      "image/png": "[encoded data removed]",
      "text/plain": [
       "<Figure size 432x288 with 2 Axes>"
      ]
     },
     "metadata": {
      "needs_background": "light"
     },
     "output_type": "display_data"
    }
   ],
   "source": [
    "#!/usr/bin/env python\n",
    "# coding: utf-8\n",
    "\n",
    "'''\n",
    "sample command: python T4_BT19_ae.py -k 0 -c 0 -r 1 --data_dir /home/ruihan/data\n",
    "Individual training for BioTac data (full/partial data)\n",
    "if -r=1, train with full data\n",
    "if -r=2, train with half data\n",
    "loss = classification loss + recon loss \n",
    "'''\n",
    "\n",
    "# Import\n",
    "import os,sys\n",
    "import pickle\n",
    "import argparse\n",
    "from datetime import datetime\n",
    "import numpy as np\n",
    "import torch\n",
    "import torch.nn as nn\n",
    "import torchvision\n",
    "import torch.nn.functional as F\n",
    "import torch.optim as optim\n",
    "import matplotlib.pyplot as plt\n",
    "import seaborn as sns\n",
    "\n",
    "from vrae.vrae import VRAEC\n",
    "from preprocess_data import get_TrainValTestLoader, get_TrainValTestDataset, get_TrainValTestData\n",
    "from vrae.visual import plot_grad_flow, plot_stats, confusion_matrix_plot\n",
    "\n",
    "# Set hyper params\n",
    "args_data_dir = args.data_dir\n",
    "kfold_number = args.kfold\n",
    "data_reduction_ratio = args.reduction\n",
    "shuffle = True # set to False for partial training\n",
    "sequence_length = 400\n",
    "number_of_features = 19\n",
    "\n",
    "hidden_size = args.h_s\n",
    "hidden_layer_depth = 1\n",
    "latent_length = 40\n",
    "batch_size = 32\n",
    "learning_rate = 0.001 # 0.0005\n",
    "n_epochs = 100\n",
    "dropout_rate = 0.2\n",
    "cuda = True # options: True, False\n",
    "header = None\n",
    "dataset = args.dataset\n",
    "if dataset == 'c50':\n",
    "    num_class = 50\n",
    "else:\n",
    "    num_class = 20\n",
    "\n",
    "# loss weightage\n",
    "w_r = args.w_r\n",
    "w_c = 1\n",
    "\n",
    "np.random.seed(1)\n",
    "torch.manual_seed(1)\n",
    "\n",
    "# Load data\n",
    "# data_dir = os.path.join(args_data_dir, \"compiled_data/\")\n",
    "logDir = 'models_and_stats/'\n",
    "if_plot = False\n",
    "\n",
    "# RNN block\n",
    "block = \"phased_LSTM\" # LSTM, GRU, phased_LSTM\n",
    "\n",
    "model_name = 'B_block_{}_data_{}_wrI_{}_wC_{}_hidden_{}_latent_{}_r_on_{}_p_max_{}'.format(block, dataset, w_r, w_c, str(hidden_size), str(latent_length), str(args.r_on), str(args.p_max))\n",
    "\n",
    "if torch.cuda.is_available() and cuda:\n",
    "    device = torch.device(\"cuda:{}\".format(args.cuda))\n",
    "else:\n",
    "    device = torch.device('cpu')\n",
    "\n",
    "if args.reduction != 1:\n",
    "    print(\"load {} kfold number, reduce data to {} folds, put to device: {}\".format(args.kfold, args.reduction, device))\n",
    "else:\n",
    "    print(\"load {} kfold number, train with full data, put to device: {}\".format(args.kfold, device))\n",
    "\n",
    "prefix = \"\"\n",
    "dataset_dir = os.path.join(args_data_dir, dataset+\"/\") # TODO\n",
    "train_set, val_set, test_set = get_TrainValTestDataset(dataset_dir, k=0, prefix=prefix, seq_len=sequence_length)\n",
    "train_loader, val_loader, test_loader = get_TrainValTestLoader(dataset_dir, k=0, batch_size=batch_size,shuffle=shuffle, prefix=prefix,seq_len=sequence_length)\n",
    "X_train, X_val, X_test, Y_train, Y_val, Y_test = get_TrainValTestData(dataset_dir, k=0, prefix=prefix,seq_len=sequence_length)\n",
    "# Initialize models\n",
    "model = VRAEC(num_class=num_class,\n",
    "            block=block,\n",
    "            sequence_length=400, # TODO\n",
    "            number_of_features = number_of_features,\n",
    "            hidden_size = hidden_size, \n",
    "            hidden_layer_depth = hidden_layer_depth,\n",
    "            latent_length = latent_length,\n",
    "            batch_size = batch_size,\n",
    "            learning_rate = learning_rate,\n",
    "            n_epochs = n_epochs,\n",
    "            dropout_rate = dropout_rate,\n",
    "            cuda = cuda,\n",
    "            model_name=model_name,\n",
    "            header=header,\n",
    "            device = device,\n",
    "            ratio_on=args.r_on, period_init_max=args.p_max)\n",
    "model.to(device)\n",
    "\n",
    "# Initialize training settings\n",
    "optimizer = optim.Adam(model.parameters(), lr=learning_rate)\n",
    "cl_loss_fn = nn.NLLLoss()\n",
    "recon_loss_fn = nn.MSELoss()\n",
    "\n",
    "# model.load_state_dict(torch.load('models_and_stats/model_phased_LSTM_B30.pt', map_location='cpu'))\n",
    "# saved_dicts = torch.load('models_and_stats/model_phased_LSTM_B.pt', map_location='cpu')\n",
    "# model.load_state_dict(saved_dicts['model_state_dict'])\n",
    "# optimizer.load_state_dict(saved_dicts['optimizer_state_dict'])\n",
    "\n",
    "training_start=datetime.now()\n",
    "# create empty lists to fill stats later\n",
    "epoch_train_loss = []\n",
    "epoch_train_acc = []\n",
    "epoch_val_loss = []\n",
    "epoch_val_acc = []\n",
    "max_val_acc = 0\n",
    "max_val_epoch = 0\n",
    "if block == \"phased_LSTM\":\n",
    "    time = torch.Tensor(range(sequence_length))\n",
    "    times = time.repeat(batch_size, 1)\n",
    "\n",
    "# TEST at the best model\n",
    "correct = 0\n",
    "test_num = 0\n",
    "\n",
    "saved_dicts = torch.load('models_and_stats/'+'B_block_phased_LSTM_data_c20_wrI_0.005_wC_1_hidden_90_latent_40_r_on_0.1_p_max_20060.pt', map_location='cpu')\n",
    "# saved_dicts = torch.load('models_and_stats/'+'model_name+str(max_val_epoch)+'.pt'', map_location='cpu')\n",
    "model.load_state_dict(saved_dicts['model_state_dict'])\n",
    "\n",
    "for i, (XB,  y) in enumerate(test_loader):\n",
    "    if XB.size(0) != batch_size:\n",
    "        print(\" test batch {} size {} < {}, skip\".format(i, x.size()[0], batch_size))\n",
    "        break\n",
    "        \n",
    "    if model.header == 'CNN':\n",
    "        x = XI\n",
    "    else:\n",
    "        x = XB\n",
    "    # x = x[:, :, 200:]\n",
    "    x, y = x.to(device), y.long().to(device)\n",
    "\n",
    "    test_num += x.size(0)\n",
    "    if block == \"phased_LSTM\":\n",
    "        x_decoded, latent, output = model(x, times)\n",
    "    else:\n",
    "        x_decoded, latent, output = model(x)\n",
    "\n",
    "    # compute classification acc\n",
    "    pred = output.data.max(1, keepdim=True)[1]  # get the index of the max log-probability\n",
    "    print(i, pred.eq(y.data.view_as(pred)).long().cpu().sum().item())\n",
    "    correct += pred.eq(y.data.view_as(pred)).long().cpu().sum().item()\n",
    "\n",
    "    if i == 0:\n",
    "        all_x = x\n",
    "        all_x_decoded = x_decoded\n",
    "        all_latent = latent\n",
    "        all_y = y\n",
    "        all_pred = pred\n",
    "    else:\n",
    "        all_x = torch.cat((all_x, x), 0)\n",
    "        all_x_decoded = torch.cat((all_x_decoded, x_decoded), 0)\n",
    "        all_latent = torch.cat((all_latent, latent), 0)\n",
    "        all_y = torch.cat((all_y, y), 0)\n",
    "        all_pred = torch.cat((all_pred, pred), 0)\n",
    "\n",
    "confusion_matrix_plot(all_y, all_pred, '0')\n",
    "print(correct, test_num)    \n",
    "test_acc2 = correct / test_num #len(test_loader.dataset)\n",
    "print('at the best model Test accuracy for', str(kfold_number), ' fold : ', test_acc2)\n"
   ]
  },
  {
   "cell_type": "code",
   "execution_count": 99,
   "metadata": {
    "collapsed": true
   },
   "outputs": [
    {
     "name": "stdout",
     "output_type": "stream",
     "text": [
      "tensor([ 9, 14, 10, 15,  4, 12, 10,  5,  5,  8, 10, 14, 11,  4, 15, 19,  9,  6,\n",
      "        14, 13,  8,  1, 14,  3, 13, 14, 18, 16,  3, 19,  6,  6, 16, 13,  8, 18,\n",
      "        19, 17,  1, 13, 12,  1, 13, 17, 19,  0, 15, 13,  3, 11, 18, 17, 18,  2,\n",
      "         8, 15, 11, 15,  3, 10, 11, 16,  3, 12,  2, 19, 10,  5, 16,  1,  0,  1,\n",
      "        10, 19,  5,  7,  7, 16, 16, 11,  0,  7,  8,  6, 18,  3,  9,  8, 11,  6,\n",
      "        15, 14,  9,  8, 13, 19, 17,  1, 16, 12,  0, 19, 14,  9,  5, 17, 16, 12,\n",
      "        14, 17, 10,  3,  5, 11, 18,  4,  1,  8, 17,  9,  6,  4,  0, 10, 13, 10,\n",
      "         3,  9, 16, 19,  4,  6,  7,  5,  9, 18,  1, 18,  2, 15, 12,  7,  3, 15,\n",
      "        13,  1,  0,  2,  7,  4, 16, 13, 14,  0, 15,  4,  7, 14, 17,  0,  0,  6,\n",
      "        11,  5,  1,  5, 19,  4,  2, 12, 12,  8,  4,  2,  6,  6, 17,  5,  2, 17,\n",
      "        18,  2, 11, 11,  4, 15, 12,  8,  3,  2,  7, 12])\n",
      "tensor([[ 9],\n",
      "        [14],\n",
      "        [10],\n",
      "        [15],\n",
      "        [ 3],\n",
      "        [12],\n",
      "        [10],\n",
      "        [ 5],\n",
      "        [ 5],\n",
      "        [ 7],\n",
      "        [10],\n",
      "        [14],\n",
      "        [11],\n",
      "        [ 4],\n",
      "        [15],\n",
      "        [13],\n",
      "        [ 9],\n",
      "        [ 6],\n",
      "        [12],\n",
      "        [ 9],\n",
      "        [ 8],\n",
      "        [ 1],\n",
      "        [14],\n",
      "        [ 9],\n",
      "        [13],\n",
      "        [14],\n",
      "        [18],\n",
      "        [16],\n",
      "        [ 3],\n",
      "        [19],\n",
      "        [ 6],\n",
      "        [ 6],\n",
      "        [16],\n",
      "        [13],\n",
      "        [ 9],\n",
      "        [18],\n",
      "        [19],\n",
      "        [17],\n",
      "        [ 1],\n",
      "        [13],\n",
      "        [12],\n",
      "        [ 1],\n",
      "        [13],\n",
      "        [17],\n",
      "        [13],\n",
      "        [ 0],\n",
      "        [12],\n",
      "        [13],\n",
      "        [ 3],\n",
      "        [16],\n",
      "        [18],\n",
      "        [17],\n",
      "        [18],\n",
      "        [19],\n",
      "        [ 7],\n",
      "        [15],\n",
      "        [11],\n",
      "        [15],\n",
      "        [ 3],\n",
      "        [10],\n",
      "        [11],\n",
      "        [16],\n",
      "        [ 3],\n",
      "        [12],\n",
      "        [ 2],\n",
      "        [19],\n",
      "        [10],\n",
      "        [ 5],\n",
      "        [16],\n",
      "        [ 1],\n",
      "        [ 0],\n",
      "        [ 1],\n",
      "        [10],\n",
      "        [19],\n",
      "        [ 5],\n",
      "        [ 7],\n",
      "        [ 7],\n",
      "        [16],\n",
      "        [16],\n",
      "        [14],\n",
      "        [ 0],\n",
      "        [ 7],\n",
      "        [ 7],\n",
      "        [ 6],\n",
      "        [18],\n",
      "        [ 3],\n",
      "        [ 9],\n",
      "        [ 7],\n",
      "        [11],\n",
      "        [ 6],\n",
      "        [15],\n",
      "        [12],\n",
      "        [ 9],\n",
      "        [ 8],\n",
      "        [13],\n",
      "        [19],\n",
      "        [17],\n",
      "        [ 1],\n",
      "        [16],\n",
      "        [ 7],\n",
      "        [ 0],\n",
      "        [19],\n",
      "        [ 7],\n",
      "        [ 9],\n",
      "        [ 5],\n",
      "        [17],\n",
      "        [16],\n",
      "        [12],\n",
      "        [11],\n",
      "        [17],\n",
      "        [10],\n",
      "        [ 3],\n",
      "        [ 5],\n",
      "        [11],\n",
      "        [18],\n",
      "        [ 4],\n",
      "        [ 1],\n",
      "        [ 8],\n",
      "        [17],\n",
      "        [ 9],\n",
      "        [ 6],\n",
      "        [ 3],\n",
      "        [ 0],\n",
      "        [10],\n",
      "        [13],\n",
      "        [10],\n",
      "        [ 3],\n",
      "        [ 9],\n",
      "        [16],\n",
      "        [19],\n",
      "        [ 4],\n",
      "        [ 6],\n",
      "        [ 7],\n",
      "        [ 5],\n",
      "        [ 9],\n",
      "        [18],\n",
      "        [ 1],\n",
      "        [18],\n",
      "        [ 2],\n",
      "        [15],\n",
      "        [12],\n",
      "        [ 7],\n",
      "        [ 3],\n",
      "        [15],\n",
      "        [13],\n",
      "        [ 1],\n",
      "        [ 0],\n",
      "        [ 2],\n",
      "        [ 8],\n",
      "        [ 4],\n",
      "        [16],\n",
      "        [13],\n",
      "        [14],\n",
      "        [ 0],\n",
      "        [15],\n",
      "        [ 3],\n",
      "        [ 7],\n",
      "        [14],\n",
      "        [17],\n",
      "        [ 0],\n",
      "        [ 0],\n",
      "        [ 6],\n",
      "        [16],\n",
      "        [ 5],\n",
      "        [ 1],\n",
      "        [ 5],\n",
      "        [19],\n",
      "        [ 4],\n",
      "        [ 2],\n",
      "        [ 8],\n",
      "        [12],\n",
      "        [ 7],\n",
      "        [ 4],\n",
      "        [ 2],\n",
      "        [ 6],\n",
      "        [ 6],\n",
      "        [17],\n",
      "        [ 5],\n",
      "        [ 2],\n",
      "        [17],\n",
      "        [18],\n",
      "        [ 2],\n",
      "        [11],\n",
      "        [11],\n",
      "        [ 4],\n",
      "        [15],\n",
      "        [ 7],\n",
      "        [ 8],\n",
      "        [ 3],\n",
      "        [ 2],\n",
      "        [ 7],\n",
      "        [12]])\n"
     ]
    }
   ],
   "source": [
    "print(all_y)\n",
    "print(all_pred)"
   ]
  },
  {
   "cell_type": "code",
   "execution_count": 100,
   "metadata": {},
   "outputs": [
    {
     "data": {
      "text/plain": [
       "<AxesSubplot:>"
      ]
     },
     "execution_count": 100,
     "metadata": {},
     "output_type": "execute_result"
    },
    {
     "data": {
      "image/png": "[encoded data removed]",
      "text/plain": [
       "<Figure size 432x288 with 2 Axes>"
      ]
     },
     "metadata": {
      "needs_background": "light"
     },
     "output_type": "display_data"
    }
   ],
   "source": [
    "sns.heatmap(all_x[4, :, :]) # 4 pred 3"
   ]
  },
  {
   "cell_type": "code",
   "execution_count": 103,
   "metadata": {},
   "outputs": [
    {
     "data": {
      "text/plain": [
       "<AxesSubplot:>"
      ]
     },
     "execution_count": 103,
     "metadata": {},
     "output_type": "execute_result"
    },
    {
     "data": {
      "image/png": "[encoded data removed]",
      "text/plain": [
       "<Figure size 432x288 with 2 Axes>"
      ]
     },
     "metadata": {
      "needs_background": "light"
     },
     "output_type": "display_data"
    }
   ],
   "source": [
    "sns.heatmap(all_x[-8, :, :]) # 4 pred 4"
   ]
  },
  {
   "cell_type": "code",
   "execution_count": 102,
   "metadata": {},
   "outputs": [
    {
     "data": {
      "text/plain": [
       "<AxesSubplot:>"
      ]
     },
     "execution_count": 102,
     "metadata": {},
     "output_type": "execute_result"
    },
    {
     "data": {
      "image/png": "[encoded data removed]",
      "text/plain": [
       "<Figure size 432x288 with 2 Axes>"
      ]
     },
     "metadata": {
      "needs_background": "light"
     },
     "output_type": "display_data"
    }
   ],
   "source": [
    "sns.heatmap(all_x[-4, :, :]) # 3 pred 3"
   ]
  },
  {
   "cell_type": "code",
   "execution_count": 68,
   "metadata": {},
   "outputs": [
    {
     "name": "stdout",
     "output_type": "stream",
     "text": [
      "load 0 kfold number, train with full data, put to device: cpu\n",
      "chop org data of length 400 into 1 segments, each of which is has length 400\n",
      "chop org data of length 400 into 1 segments, each of which is has length 400\n",
      "chop org data of length 400 into 1 segments, each of which is has length 400\n",
      "0 25\n",
      "1 25\n",
      "2 28\n",
      "3 27\n",
      "4 31\n",
      "5 30\n",
      " test batch 6 size 32 < 32, skip\n",
      "plotting conf matrix\n",
      "166 192\n",
      "at the best model Test accuracy for 0  fold :  0.8645833333333334\n"
     ]
    },
    {
     "data": {
      "image/png": "[encoded data removed]",
      "text/plain": [
       "<Figure size 432x288 with 2 Axes>"
      ]
     },
     "metadata": {
      "needs_background": "light"
     },
     "output_type": "display_data"
    }
   ],
   "source": [
    "#!/usr/bin/env python\n",
    "# coding: utf-8\n",
    "\n",
    "'''\n",
    "sample command: python T4_BT19_ae.py -k 0 -c 0 -r 1 --data_dir /home/ruihan/data\n",
    "Individual training for BioTac data (full/partial data)\n",
    "if -r=1, train with full data\n",
    "if -r=2, train with half data\n",
    "loss = classification loss + recon loss \n",
    "'''\n",
    "\n",
    "# Import\n",
    "import os,sys\n",
    "import pickle\n",
    "import argparse\n",
    "from datetime import datetime\n",
    "import numpy as np\n",
    "import torch\n",
    "import torch.nn as nn\n",
    "import torchvision\n",
    "import torch.nn.functional as F\n",
    "import torch.optim as optim\n",
    "import matplotlib.pyplot as plt\n",
    "import seaborn as sns\n",
    "\n",
    "from vrae.vrae import VRAEC\n",
    "from preprocess_data import get_TrainValTestLoader, get_TrainValTestDataset, get_TrainValTestData\n",
    "from vrae.visual import plot_grad_flow, plot_stats, confusion_matrix_plot\n",
    "\n",
    "# Set hyper params\n",
    "args_data_dir = args.data_dir\n",
    "kfold_number = args.kfold\n",
    "data_reduction_ratio = args.reduction\n",
    "shuffle = True # set to False for partial training\n",
    "sequence_length = 400\n",
    "number_of_features = 19\n",
    "\n",
    "hidden_size = args.h_s\n",
    "hidden_layer_depth = 1\n",
    "latent_length = 40\n",
    "batch_size = 32\n",
    "learning_rate = 0.001 # 0.0005\n",
    "n_epochs = 100\n",
    "dropout_rate = 0.2\n",
    "cuda = True # options: True, False\n",
    "header = None\n",
    "dataset = args.dataset\n",
    "if dataset == 'c50':\n",
    "    num_class = 50\n",
    "else:\n",
    "    num_class = 20\n",
    "\n",
    "# loss weightage\n",
    "w_r = args.w_r\n",
    "w_c = 1\n",
    "\n",
    "np.random.seed(1)\n",
    "torch.manual_seed(1)\n",
    "\n",
    "# Load data\n",
    "# data_dir = os.path.join(args_data_dir, \"compiled_data/\")\n",
    "logDir = 'models_and_stats/'\n",
    "if_plot = False\n",
    "\n",
    "# RNN block\n",
    "block = \"phased_LSTM\" # LSTM, GRU, phased_LSTM\n",
    "\n",
    "model_name = 'B_block_{}_data_{}_wrI_{}_wC_{}_hidden_{}_latent_{}_r_on_{}_p_max_{}'.format(block, dataset, w_r, w_c, str(hidden_size), str(latent_length), str(args.r_on), str(args.p_max))\n",
    "\n",
    "if torch.cuda.is_available() and cuda:\n",
    "    device = torch.device(\"cuda:{}\".format(args.cuda))\n",
    "else:\n",
    "    device = torch.device('cpu')\n",
    "\n",
    "if args.reduction != 1:\n",
    "    print(\"load {} kfold number, reduce data to {} folds, put to device: {}\".format(args.kfold, args.reduction, device))\n",
    "else:\n",
    "    print(\"load {} kfold number, train with full data, put to device: {}\".format(args.kfold, device))\n",
    "\n",
    "prefix = \"\"\n",
    "dataset_dir = os.path.join(args_data_dir, dataset+\"/\") # TODO\n",
    "train_set, val_set, test_set = get_TrainValTestDataset(dataset_dir, k=0, prefix=prefix, seq_len=sequence_length)\n",
    "train_loader, val_loader, test_loader = get_TrainValTestLoader(dataset_dir, k=0, batch_size=batch_size,shuffle=shuffle, prefix=prefix,seq_len=sequence_length)\n",
    "X_train, X_val, X_test, Y_train, Y_val, Y_test = get_TrainValTestData(dataset_dir, k=0, prefix=prefix,seq_len=sequence_length)\n",
    "# Initialize models\n",
    "model = VRAEC(num_class=num_class,\n",
    "            block=block,\n",
    "            sequence_length=200, # TODO\n",
    "            number_of_features = number_of_features,\n",
    "            hidden_size = hidden_size, \n",
    "            hidden_layer_depth = hidden_layer_depth,\n",
    "            latent_length = latent_length,\n",
    "            batch_size = batch_size,\n",
    "            learning_rate = learning_rate,\n",
    "            n_epochs = n_epochs,\n",
    "            dropout_rate = dropout_rate,\n",
    "            cuda = cuda,\n",
    "            model_name=model_name,\n",
    "            header=header,\n",
    "            device = device,\n",
    "            ratio_on=args.r_on, period_init_max=args.p_max)\n",
    "model.to(device)\n",
    "\n",
    "# Initialize training settings\n",
    "optimizer = optim.Adam(model.parameters(), lr=learning_rate)\n",
    "cl_loss_fn = nn.NLLLoss()\n",
    "recon_loss_fn = nn.MSELoss()\n",
    "\n",
    "# model.load_state_dict(torch.load('models_and_stats/model_phased_LSTM_B30.pt', map_location='cpu'))\n",
    "# saved_dicts = torch.load('models_and_stats/model_phased_LSTM_B.pt', map_location='cpu')\n",
    "# model.load_state_dict(saved_dicts['model_state_dict'])\n",
    "# optimizer.load_state_dict(saved_dicts['optimizer_state_dict'])\n",
    "\n",
    "training_start=datetime.now()\n",
    "# create empty lists to fill stats later\n",
    "epoch_train_loss = []\n",
    "epoch_train_acc = []\n",
    "epoch_val_loss = []\n",
    "epoch_val_acc = []\n",
    "max_val_acc = 0\n",
    "max_val_epoch = 0\n",
    "if block == \"phased_LSTM\":\n",
    "    time = torch.Tensor(range(sequence_length))\n",
    "    times = time.repeat(batch_size, 1)\n",
    "\n",
    "# TEST at the best model\n",
    "correct = 0\n",
    "test_num = 0\n",
    "\n",
    "saved_dicts = torch.load('models_and_stats/'+'B_block_phased_LSTM_data_c20_wrI_0.005_wC_1_hidden_90_latent_40_r_on_0.1_p_max_20060.pt', map_location='cpu')\n",
    "# saved_dicts = torch.load('models_and_stats/'+'model_name+str(max_val_epoch)+'.pt'', map_location='cpu')\n",
    "model.load_state_dict(saved_dicts['model_state_dict'])\n",
    "\n",
    "for i, (XB,  y) in enumerate(test_loader):\n",
    "    if XB.size(0) != batch_size:\n",
    "        print(\" test batch {} size {} < {}, skip\".format(i, x.size()[0], batch_size))\n",
    "        break\n",
    "        \n",
    "    if model.header == 'CNN':\n",
    "        x = XI\n",
    "    else:\n",
    "        x = XB\n",
    "    x = x[:, :, 200:]\n",
    "    x, y = x.to(device), y.long().to(device)\n",
    "\n",
    "    test_num += x.size(0)\n",
    "    if block == \"phased_LSTM\":\n",
    "        x_decoded, latent, output = model(x, times)\n",
    "    else:\n",
    "        x_decoded, latent, output = model(x)\n",
    "\n",
    "    # compute classification acc\n",
    "    pred = output.data.max(1, keepdim=True)[1]  # get the index of the max log-probability\n",
    "    print(i, pred.eq(y.data.view_as(pred)).long().cpu().sum().item())\n",
    "    correct += pred.eq(y.data.view_as(pred)).long().cpu().sum().item()\n",
    "\n",
    "    if i == 0:\n",
    "        all_x = x\n",
    "        all_x_decoded = x_decoded\n",
    "        all_latent = latent\n",
    "        all_y = y\n",
    "        all_pred = pred\n",
    "    else:\n",
    "        all_x = torch.cat((all_x, x), 0)\n",
    "        all_x_decoded = torch.cat((all_x_decoded, x_decoded), 0)\n",
    "        all_latent = torch.cat((all_latent, latent), 0)\n",
    "        all_y = torch.cat((all_y, y), 0)\n",
    "        all_pred = torch.cat((all_pred, pred), 0)\n",
    "\n",
    "confusion_matrix_plot(all_y, all_pred, '0')\n",
    "print(correct, test_num)    \n",
    "test_acc2 = correct / test_num #len(test_loader.dataset)\n",
    "print('at the best model Test accuracy for', str(kfold_number), ' fold : ', test_acc2)\n",
    "\n"
   ]
  },
  {
   "cell_type": "code",
   "execution_count": 69,
   "metadata": {},
   "outputs": [
    {
     "name": "stdout",
     "output_type": "stream",
     "text": [
      "0 20\n",
      "1 17\n",
      "2 17\n",
      "3 20\n",
      "4 16\n",
      "5 10\n",
      " test batch 6 size 32 < 32, skip\n",
      "plotting conf matrix\n",
      "266 384\n",
      "at the best model Test accuracy for 0  fold :  0.6927083333333334\n"
     ]
    },
    {
     "data": {
      "image/png": "[encoded data removed]",
      "text/plain": [
       "<Figure size 432x288 with 2 Axes>"
      ]
     },
     "metadata": {
      "needs_background": "light"
     },
     "output_type": "display_data"
    }
   ],
   "source": [
    "saved_dicts = torch.load('models_and_stats/'+'B_block_phased_LSTM_data_c20_wrI_0.005_wC_1_hidden_90_latent_40_r_on_0.1_p_max_20060.pt', map_location='cpu')\n",
    "# saved_dicts = torch.load('models_and_stats/'+'model_name+str(max_val_epoch)+'.pt'', map_location='cpu')\n",
    "model.load_state_dict(saved_dicts['model_state_dict'])\n",
    "\n",
    "for i, (XB,  y) in enumerate(test_loader):\n",
    "    if XB.size(0) != batch_size:\n",
    "        print(\" test batch {} size {} < {}, skip\".format(i, x.size()[0], batch_size))\n",
    "        break\n",
    "        \n",
    "    if model.header == 'CNN':\n",
    "        x = XI\n",
    "    else:\n",
    "        x = XB\n",
    "    x = x[:, :, :200]\n",
    "    x, y = x.to(device), y.long().to(device)\n",
    "\n",
    "    test_num += x.size(0)\n",
    "    if block == \"phased_LSTM\":\n",
    "        x_decoded, latent, output = model(x, times)\n",
    "    else:\n",
    "        x_decoded, latent, output = model(x)\n",
    "\n",
    "    # compute classification acc\n",
    "    pred = output.data.max(1, keepdim=True)[1]  # get the index of the max log-probability\n",
    "    print(i, pred.eq(y.data.view_as(pred)).long().cpu().sum().item())\n",
    "    correct += pred.eq(y.data.view_as(pred)).long().cpu().sum().item()\n",
    "\n",
    "    if i == 0:\n",
    "        all_x = x\n",
    "        all_x_decoded = x_decoded\n",
    "        all_latent = latent\n",
    "        all_y = y\n",
    "        all_pred = pred\n",
    "    else:\n",
    "        all_x = torch.cat((all_x, x), 0)\n",
    "        all_x_decoded = torch.cat((all_x_decoded, x_decoded), 0)\n",
    "        all_latent = torch.cat((all_latent, latent), 0)\n",
    "        all_y = torch.cat((all_y, y), 0)\n",
    "        all_pred = torch.cat((all_pred, pred), 0)\n",
    "\n",
    "confusion_matrix_plot(all_y, all_pred, '0')\n",
    "print(correct, test_num)    \n",
    "test_acc2 = correct / test_num #len(test_loader.dataset)\n",
    "print('at the best model Test accuracy for', str(kfold_number), ' fold : ', test_acc2)\n",
    "\n"
   ]
  },
  {
   "cell_type": "code",
   "execution_count": null,
   "metadata": {},
   "outputs": [],
   "source": [
    "400: 0.8645833333333334\n",
    "200(0,2,4,...):0.8489583333333334\n",
    "200(200,201,...):0.8645833333333334\n",
    "200(0,1,2,...):0.6927083333333334"
   ]
  },
  {
   "cell_type": "code",
   "execution_count": 65,
   "metadata": {},
   "outputs": [
    {
     "name": "stdout",
     "output_type": "stream",
     "text": [
      "torch.Size([32, 19, 200])\n"
     ]
    }
   ],
   "source": [
    "print(x_decoded.size())"
   ]
  },
  {
   "cell_type": "code",
   "execution_count": 23,
   "metadata": {},
   "outputs": [
    {
     "data": {
      "text/plain": [
       "torch.Size([192, 40])"
      ]
     },
     "execution_count": 23,
     "metadata": {},
     "output_type": "execute_result"
    }
   ],
   "source": [
    "all_latent.size()"
   ]
  },
  {
   "cell_type": "code",
   "execution_count": 25,
   "metadata": {},
   "outputs": [
    {
     "data": {
      "text/plain": [
       "torch.Size([192, 19, 400])"
      ]
     },
     "execution_count": 25,
     "metadata": {},
     "output_type": "execute_result"
    }
   ],
   "source": [
    "all_x.size()"
   ]
  },
  {
   "cell_type": "code",
   "execution_count": 33,
   "metadata": {},
   "outputs": [
    {
     "data": {
      "text/plain": [
       "[<matplotlib.lines.Line2D at 0x7ffa3000c9a0>]"
      ]
     },
     "execution_count": 33,
     "metadata": {},
     "output_type": "execute_result"
    },
    {
     "data": {
      "image/png": "[encoded data removed]",
      "text/plain": [
       "<Figure size 432x288 with 1 Axes>"
      ]
     },
     "metadata": {
      "needs_background": "light"
     },
     "output_type": "display_data"
    }
   ],
   "source": [
    "plt.plot(all_x[0, 10, :])"
   ]
  },
  {
   "cell_type": "code",
   "execution_count": 34,
   "metadata": {},
   "outputs": [
    {
     "data": {
      "text/plain": [
       "[<matplotlib.lines.Line2D at 0x7ffa24d62d90>]"
      ]
     },
     "execution_count": 34,
     "metadata": {},
     "output_type": "execute_result"
    },
    {
     "data": {
      "image/png": "[encoded data removed]",
      "text/plain": [
       "<Figure size 432x288 with 1 Axes>"
      ]
     },
     "metadata": {
      "needs_background": "light"
     },
     "output_type": "display_data"
    }
   ],
   "source": [
    "plt.plot(all_x_decoded[0, 10, :].detach().numpy())"
   ]
  },
  {
   "cell_type": "code",
   "execution_count": 43,
   "metadata": {},
   "outputs": [
    {
     "data": {
      "text/plain": [
       "<AxesSubplot:>"
      ]
     },
     "execution_count": 43,
     "metadata": {},
     "output_type": "execute_result"
    },
    {
     "data": {
      "image/png": "[encoded data removed]",
      "text/plain": [
       "<Figure size 432x288 with 2 Axes>"
      ]
     },
     "metadata": {
      "needs_background": "light"
     },
     "output_type": "display_data"
    }
   ],
   "source": [
    "sns.heatmap(all_x[3, :, :])"
   ]
  },
  {
   "cell_type": "code",
   "execution_count": 45,
   "metadata": {},
   "outputs": [
    {
     "data": {
      "text/plain": [
       "<AxesSubplot:>"
      ]
     },
     "execution_count": 45,
     "metadata": {},
     "output_type": "execute_result"
    },
    {
     "data": {
      "image/png": "[encoded data removed]",
      "text/plain": [
       "<Figure size 432x288 with 2 Axes>"
      ]
     },
     "metadata": {
      "needs_background": "light"
     },
     "output_type": "display_data"
    }
   ],
   "source": [
    "sns.heatmap(all_x_decoded[3, :, :].detach().numpy())"
   ]
  },
  {
   "cell_type": "code",
   "execution_count": 46,
   "metadata": {},
   "outputs": [
    {
     "data": {
      "text/plain": [
       "<AxesSubplot:>"
      ]
     },
     "execution_count": 46,
     "metadata": {},
     "output_type": "execute_result"
    },
    {
     "data": {
      "image/png": "[encoded data removed]",
      "text/plain": [
       "<Figure size 432x288 with 2 Axes>"
      ]
     },
     "metadata": {
      "needs_background": "light"
     },
     "output_type": "display_data"
    }
   ],
   "source": [
    "sns.heatmap(all_x_decoded[190, :, :].detach().numpy())"
   ]
  },
  {
   "cell_type": "code",
   "execution_count": 89,
   "metadata": {},
   "outputs": [],
   "source": [
    "Y_test = np.load('data/c20/labels_test.npy')"
   ]
  },
  {
   "cell_type": "code",
   "execution_count": 90,
   "metadata": {},
   "outputs": [],
   "source": [
    "Y_test = Y_test.tolist()"
   ]
  },
  {
   "cell_type": "code",
   "execution_count": 91,
   "metadata": {},
   "outputs": [
    {
     "data": {
      "text/plain": [
       "dict_values([10, 10, 10, 10, 10, 10, 10, 10, 10, 10, 10, 10, 10, 10, 10, 10, 10, 10, 10, 10])"
      ]
     },
     "execution_count": 91,
     "metadata": {},
     "output_type": "execute_result"
    }
   ],
   "source": [
    "from collections import Counter\n",
    "Counter(Y_test).keys() \n",
    "Counter(Y_test).values()"
   ]
  }
 ],
 "metadata": {
  "kernelspec": {
   "display_name": "Python [conda env:AE]",
   "language": "python",
   "name": "conda-env-AE-py"
  },
  "language_info": {
   "codemirror_mode": {
    "name": "ipython",
    "version": 3
   },
   "file_extension": ".py",
   "mimetype": "text/x-python",
   "name": "python",
   "nbconvert_exporter": "python",
   "pygments_lexer": "ipython3",
   "version": "3.8.3"
  }
 },
 "nbformat": 4,
 "nbformat_minor": 4
}
